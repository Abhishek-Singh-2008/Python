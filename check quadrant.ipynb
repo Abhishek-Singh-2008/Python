{
 "cells": [
  {
   "cell_type": "code",
   "execution_count": 11,
   "metadata": {},
   "outputs": [
    {
     "data": {
      "text/plain": [
       "'3rd quadrant'"
      ]
     },
     "execution_count": 11,
     "metadata": {},
     "output_type": "execute_result"
    }
   ],
   "source": [
    "#Given a point (x1, y1), return the quadrant (integer values given below) in which this point lies. \n",
    "# [0: origin, 1: first quadrant, 2: second quadrant, 3: third quadrant, 4: fourth quadrant,\n",
    "#  12: positive y-axis, 23: negative x-axis, 34: negative y-axis, 41: positive x-axis]\n",
    "def a_point(x,y):\n",
    "    if x>0 and y>0:\n",
    "        return(\"1st quadtrant\")\n",
    "    elif x<0 and y>0:\n",
    "        return(\"2nd quadrant\")\n",
    "    elif x<0 and y<0:\n",
    "        return(\"3rd quadrant\")\n",
    "    elif x>0 and y<0:\n",
    "        return(\"4th quadrant\")\n",
    "    elif x==0 and y== 0:\n",
    "        return(\"origin\")\n",
    "    elif x==0 and y>0:\n",
    "        return(\"+ve y-axis\")\n",
    "    elif x==0 and y<0:\n",
    "        return(\"-ve y axis\")\n",
    "    elif y==0 and x>0:\n",
    "        return(\"+ve x-axis\")\n",
    "    else :\n",
    "        return(\"-ve x-axis\")\n",
    "    \n",
    "a_point(2,4)    \n",
    "a_point(-1,-5)"
   ]
  }
 ],
 "metadata": {
  "kernelspec": {
   "display_name": "Python 3",
   "language": "python",
   "name": "python3"
  },
  "language_info": {
   "codemirror_mode": {
    "name": "ipython",
    "version": 3
   },
   "file_extension": ".py",
   "mimetype": "text/x-python",
   "name": "python",
   "nbconvert_exporter": "python",
   "pygments_lexer": "ipython3",
   "version": "3.12.5"
  }
 },
 "nbformat": 4,
 "nbformat_minor": 2
}
