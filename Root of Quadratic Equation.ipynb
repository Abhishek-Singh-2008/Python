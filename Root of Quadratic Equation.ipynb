{
 "cells": [
  {
   "cell_type": "code",
   "execution_count": 1,
   "metadata": {},
   "outputs": [
    {
     "name": "stdout",
     "output_type": "stream",
     "text": [
      "(-0.16666666666666666, 0.7993052538854531)\n",
      "(1.0, 1.0)\n",
      "(0.125, 0.7806247497997998)\n",
      "(0.2777777777777778, -0.1842569327975222)\n",
      "(-0.42857142857142855, -0.7284313590846835)\n"
     ]
    }
   ],
   "source": [
    "#Given a quadratic equation with coefficients a, b and c, return the two solutions (may be real or complex).\n",
    "#  You should not take the square root of a negative number in your code. Output should be a list of two tuples.\n",
    "#  So if the roots are 1+2j and 1–2j, the output of the function should be [(1,2), (1,-2)].\n",
    "#  If the roots are real, then the second part of both the tuples becomes zero.\n",
    "def three_coefficient(a,b,c):\n",
    "    D= b**2-(4*a*c)\n",
    "    x1= (-b+(D**0.5))/2*a\n",
    "    x2=  (-b-(D**0.5))/2*a\n",
    "    y1=(-b)/(2*a)\n",
    "    y2=((-D)**0.5)/(2*a)\n",
    "    if D>=0:\n",
    "        return(x1,x2)\n",
    "    else :\n",
    "        return(y1,y2)\n",
    "    \n",
    "s=three_coefficient(6,2,4)\n",
    "print(s)   \n",
    "t=three_coefficient(2,-4,4)\n",
    "print(t) \n",
    "u=three_coefficient(8,-2,5)\n",
    "print(u)\n",
    "w=three_coefficient(-9,5,-1)\n",
    "print(w)\n",
    "q=three_coefficient(-7,-6,-5)\n",
    "print(q)"
   ]
  },
  {
   "cell_type": "code",
   "execution_count": 2,
   "metadata": {},
   "outputs": [
    {
     "name": "stdout",
     "output_type": "stream",
     "text": [
      "[(-0.16666666666666666, 0.7993052538854531), (-0.16666666666666666, -0.7993052538854531)]\n",
      "[(1.0, 1.0), (1.0, -1.0)]\n",
      "[(0.125, 0.7806247497997998), (0.125, -0.7806247497997998)]\n",
      "[(0.2777777777777778, -0.1842569327975222), (0.2777777777777778, 0.1842569327975222)]\n",
      "[(-0.42857142857142855, -0.7284313590846835), (-0.42857142857142855, 0.7284313590846835)]\n"
     ]
    }
   ],
   "source": [
    "def three_coefficient(a, b, c):\n",
    "    # Calculate the discriminant\n",
    "    D = b**2 - 4 * a * c\n",
    "\n",
    "    if D >= 0:\n",
    "        # Real roots\n",
    "        x1 = (-b + D**0.5) / (2 * a)\n",
    "        x2 = (-b - D**0.5) / (2 * a)\n",
    "        return [(x1, 0), (x2, 0)]  # Real roots have imaginary part as 0\n",
    "    else:\n",
    "        # Complex roots\n",
    "        real_part = -b / (2 * a)\n",
    "        imag_part = ((-D)**0.5) / (2 * a)\n",
    "        return [(real_part, imag_part), (real_part, -imag_part)]\n",
    "\n",
    "# Example usage\n",
    "print(three_coefficient(6, 2, 4))   # Complex roots\n",
    "print(three_coefficient(2, -4, 4))  # Real roots\n",
    "print(three_coefficient(8, -2, 5))  # Complex roots\n",
    "print(three_coefficient(-9, 5, -1)) # Real roots\n",
    "print(three_coefficient(-7, -6, -5)) # Real roots\n"
   ]
  },
  {
   "cell_type": "code",
   "execution_count": null,
   "metadata": {},
   "outputs": [],
   "source": []
  }
 ],
 "metadata": {
  "kernelspec": {
   "display_name": "Python 3",
   "language": "python",
   "name": "python3"
  },
  "language_info": {
   "codemirror_mode": {
    "name": "ipython",
    "version": 3
   },
   "file_extension": ".py",
   "mimetype": "text/x-python",
   "name": "python",
   "nbconvert_exporter": "python",
   "pygments_lexer": "ipython3",
   "version": "3.12.5"
  }
 },
 "nbformat": 4,
 "nbformat_minor": 2
}
