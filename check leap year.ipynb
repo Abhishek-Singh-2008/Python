{
 "cells": [
  {
   "cell_type": "code",
   "execution_count": 2,
   "metadata": {},
   "outputs": [
    {
     "name": "stdout",
     "output_type": "stream",
     "text": [
      "False\n",
      "True\n",
      "False\n",
      "False\n",
      "True\n"
     ]
    }
   ],
   "source": [
    "#Given a year, return True if it is a leap year, else return False. \n",
    "#A leap year is divisible by 4, except for years that are divisible by 100. However, years that are divisible by 400 are also leap years.\n",
    "def is_a_year(Y):\n",
    "    if Y%4==0 and Y%100!=0 or Y%400==0 :\n",
    "       return (True)\n",
    "    else:\n",
    "       return(False)\n",
    "z=is_a_year(1000)\n",
    "print(z)\n",
    "x=is_a_year(1600)\n",
    "print(x)\n",
    "b= is_a_year(19900)\n",
    "print(b)\n",
    "c= is_a_year(19870)\n",
    "print(c)\n",
    "d= is_a_year(2000)\n",
    "print(d)"
   ]
  },
  {
   "cell_type": "code",
   "execution_count": null,
   "metadata": {},
   "outputs": [],
   "source": []
  }
 ],
 "metadata": {
  "kernelspec": {
   "display_name": "Python 3",
   "language": "python",
   "name": "python3"
  },
  "language_info": {
   "codemirror_mode": {
    "name": "ipython",
    "version": 3
   },
   "file_extension": ".py",
   "mimetype": "text/x-python",
   "name": "python",
   "nbconvert_exporter": "python",
   "pygments_lexer": "ipython3",
   "version": "3.12.5"
  }
 },
 "nbformat": 4,
 "nbformat_minor": 2
}
