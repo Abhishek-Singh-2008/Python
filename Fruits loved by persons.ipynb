{
 "cells": [
  {
   "cell_type": "code",
   "execution_count": null,
   "metadata": {},
   "outputs": [],
   "source": [
    "#Given a fruit name and a dictionary whose keys are people names and the values are the list of fruits they like, return the list of names of people who like this fruit.\n",
    "def person_loves_fruit(a,b):\n",
    "    Name_list=[]\n",
    "    for key,value in b.items():\n",
    "        if a in value:\n",
    "            Name_list.append(key)\n",
    "    return Name_list"
   ]
  }
 ],
 "metadata": {
  "kernelspec": {
   "display_name": "Python 3",
   "language": "python",
   "name": "python3"
  },
  "language_info": {
   "codemirror_mode": {
    "name": "ipython",
    "version": 3
   },
   "file_extension": ".py",
   "mimetype": "text/x-python",
   "name": "python",
   "nbconvert_exporter": "python",
   "pygments_lexer": "ipython3",
   "version": "3.13.2"
  }
 },
 "nbformat": 4,
 "nbformat_minor": 2
}
