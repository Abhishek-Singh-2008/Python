{
 "cells": [
  {
   "cell_type": "code",
   "execution_count": 7,
   "metadata": {},
   "outputs": [
    {
     "name": "stdout",
     "output_type": "stream",
     "text": [
      "b is_larger\n",
      "a is_larger\n",
      "a is_larger\n",
      "a is_larger\n",
      "b is_larger\n"
     ]
    }
   ],
   "source": [
    "# Given two integers, return the larger one.\n",
    "def are_integers(a,b):\n",
    "     if a>b :\n",
    "        return (\"a is_larger\")\n",
    "     else:\n",
    "         return(\"b is_larger\")\n",
    "D=are_integers(6,9)\n",
    "print(D)\n",
    "Y=are_integers(4286965,98724)\n",
    "print(Y)\n",
    "Z=are_integers(4286,987)\n",
    "print(Z)\n",
    "R=are_integers(126965,98754)\n",
    "print(R)\n",
    "S=are_integers(965,90005)\n",
    "print(S)\n",
    " "
   ]
  }
 ],
 "metadata": {
  "kernelspec": {
   "display_name": "Python 3",
   "language": "python",
   "name": "python3"
  },
  "language_info": {
   "codemirror_mode": {
    "name": "ipython",
    "version": 3
   },
   "file_extension": ".py",
   "mimetype": "text/x-python",
   "name": "python",
   "nbconvert_exporter": "python",
   "pygments_lexer": "ipython3",
   "version": "3.12.5"
  }
 },
 "nbformat": 4,
 "nbformat_minor": 2
}
