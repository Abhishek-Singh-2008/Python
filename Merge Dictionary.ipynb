{
 "cells": [
  {
   "cell_type": "code",
   "execution_count": 11,
   "metadata": {},
   "outputs": [
    {
     "data": {
      "text/plain": [
       "{'h': 1, 'l': 2, 'o': 3, 'ram': 2, 'shyam': 3, 'holi': 6}"
      ]
     },
     "execution_count": 11,
     "metadata": {},
     "output_type": "execute_result"
    }
   ],
   "source": [
    "#Given two dictionaries, merge them and return a single dictionary.\n",
    "def merge_dict(a,b):\n",
    "    final_dict=a\n",
    "    for key,value in b.items():\n",
    "        if key not in final_dict:\n",
    "            final_dict[key]=value\n",
    "    return final_dict\n",
    "\n",
    "merge_dict({\"h\":1,\"l\":2,\"o\":3},{\"ram\":2,\"shyam\":3,\"holi\":6})\n",
    "\n",
    "    \n"
   ]
  }
 ],
 "metadata": {
  "kernelspec": {
   "display_name": "Python 3",
   "language": "python",
   "name": "python3"
  },
  "language_info": {
   "codemirror_mode": {
    "name": "ipython",
    "version": 3
   },
   "file_extension": ".py",
   "mimetype": "text/x-python",
   "name": "python",
   "nbconvert_exporter": "python",
   "pygments_lexer": "ipython3",
   "version": "3.13.2"
  }
 },
 "nbformat": 4,
 "nbformat_minor": 2
}
