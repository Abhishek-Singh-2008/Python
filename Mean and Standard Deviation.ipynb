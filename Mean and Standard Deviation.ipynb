{
 "cells": [
  {
   "cell_type": "code",
   "execution_count": null,
   "metadata": {},
   "outputs": [],
   "source": [
    "#Given a list of numbers, return their mean and standard deviation.\n",
    "def std_of_list(n):\n",
    "    sum = 0\n",
    "    count = 0\n",
    "    for i in n:\n",
    "        sum += i\n",
    "        count += 1\n",
    "    mean = sum / count\n",
    "    variance_sum = 0\n",
    "    for i in n:\n",
    "        variance_sum += (i - mean) ** 2 \n",
    "    variance = variance_sum / count  \n",
    "    std_dev = variance ** 0.5\n",
    "    return std_dev\n",
    "numbers = [1, 2, 3, 4, 5]\n"
   ]
  },
  {
   "cell_type": "code",
   "execution_count": 29,
   "metadata": {},
   "outputs": [
    {
     "name": "stdout",
     "output_type": "stream",
     "text": [
      "1.4142135623730951\n"
     ]
    }
   ],
   "source": [
    "n=[1,2,3,4,5]\n",
    "print(std_of_list(n))"
   ]
  },
  {
   "cell_type": "code",
   "execution_count": null,
   "metadata": {},
   "outputs": [],
   "source": []
  }
 ],
 "metadata": {
  "kernelspec": {
   "display_name": "Python 3",
   "language": "python",
   "name": "python3"
  },
  "language_info": {
   "codemirror_mode": {
    "name": "ipython",
    "version": 3
   },
   "file_extension": ".py",
   "mimetype": "text/x-python",
   "name": "python",
   "nbconvert_exporter": "python",
   "pygments_lexer": "ipython3",
   "version": "3.12.5"
  }
 },
 "nbformat": 4,
 "nbformat_minor": 2
}
