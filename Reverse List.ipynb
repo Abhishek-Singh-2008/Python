{
 "cells": [
  {
   "cell_type": "code",
   "execution_count": 1,
   "metadata": {},
   "outputs": [],
   "source": [
    "#Given a list of numbers, return the list in reverse order (without using list splicing).\n",
    "def rev(list1):\n",
    "    store=[]\n",
    "    for item in range(len(list1)-1,-1,-1):\n",
    "        store.append(list1[item])\n",
    "    return store\n",
    "\n"
   ]
  },
  {
   "cell_type": "code",
   "execution_count": 2,
   "metadata": {},
   "outputs": [
    {
     "data": {
      "text/plain": [
       "[7, 6, 5, 4, 3, 2, 1]"
      ]
     },
     "execution_count": 2,
     "metadata": {},
     "output_type": "execute_result"
    }
   ],
   "source": [
    "list1=[1,2,3,4,5,6,7]\n",
    "rev(list1)"
   ]
  },
  {
   "cell_type": "code",
   "execution_count": 3,
   "metadata": {},
   "outputs": [
    {
     "data": {
      "text/plain": [
       "[678, 456, 12, 456, 23, 266346]"
      ]
     },
     "execution_count": 3,
     "metadata": {},
     "output_type": "execute_result"
    }
   ],
   "source": [
    "list2=[266346,23,456,12,456,678]\n",
    "rev(list2)"
   ]
  },
  {
   "cell_type": "code",
   "execution_count": 4,
   "metadata": {},
   "outputs": [
    {
     "data": {
      "text/plain": [
       "[56, 896, 5667, 5, 44, 23]"
      ]
     },
     "execution_count": 4,
     "metadata": {},
     "output_type": "execute_result"
    }
   ],
   "source": [
    "list3=[23,44,5,5667,896,56]\n",
    "rev(list3)"
   ]
  },
  {
   "cell_type": "code",
   "execution_count": 5,
   "metadata": {},
   "outputs": [
    {
     "data": {
      "text/plain": [
       "[5, 4332245, 6, 333, 865, 5668, 2344, 4566, 1233]"
      ]
     },
     "execution_count": 5,
     "metadata": {},
     "output_type": "execute_result"
    }
   ],
   "source": [
    "list4=[1233,4566,2344,5668,865,333,6,4332245,5]\n",
    "rev(list4)"
   ]
  },
  {
   "cell_type": "code",
   "execution_count": 6,
   "metadata": {},
   "outputs": [
    {
     "data": {
      "text/plain": [
       "[455634452346,\n",
       " 74563463,\n",
       " 423645,\n",
       " 6624634523563467,\n",
       " 452346345,\n",
       " 4553464573,\n",
       " 45236347456,\n",
       " 64546234457,\n",
       " 7515326437,\n",
       " 34524625,\n",
       " 45364574357,\n",
       " 78787,\n",
       " 33355,\n",
       " 6787,\n",
       " 1223]"
      ]
     },
     "execution_count": 6,
     "metadata": {},
     "output_type": "execute_result"
    }
   ],
   "source": [
    "list5=[1223,6787,33355,78787,45364574357,34524625,7515326437,64546234457,45236347456,4553464573,452346345,6624634523563467,423645,74563463,455634452346,]\n",
    "rev(list5)"
   ]
  }
 ],
 "metadata": {
  "kernelspec": {
   "display_name": "Python 3",
   "language": "python",
   "name": "python3"
  },
  "language_info": {
   "codemirror_mode": {
    "name": "ipython",
    "version": 3
   },
   "file_extension": ".py",
   "mimetype": "text/x-python",
   "name": "python",
   "nbconvert_exporter": "python",
   "pygments_lexer": "ipython3",
   "version": "3.12.5"
  }
 },
 "nbformat": 4,
 "nbformat_minor": 2
}
