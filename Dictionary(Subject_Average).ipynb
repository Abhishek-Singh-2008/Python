{
 "cells": [
  {
   "cell_type": "code",
   "execution_count": 2,
   "metadata": {},
   "outputs": [
    {
     "data": {
      "text/plain": [
       "{'a': 2.0, 'b': 4.0, 'c': 6.0, 'd': 8.0}"
      ]
     },
     "execution_count": 2,
     "metadata": {},
     "output_type": "execute_result"
    }
   ],
   "source": [
    "#Given a dictionary containing the student names as keys and list of marks in 3 subjects as the dictionary values,\n",
    "#  return a list containing the average marks for each subject.\n",
    "def sub_avg(a):\n",
    "    b={}\n",
    "    for key,value in a.items():\n",
    "        b[key]=(sum(value))/3\n",
    "    return b\n",
    "sub_avg({'a': [1,2,3], 'b': [2,4,6], 'c': [3,6,9], 'd': [4,8,12]})\n"
   ]
  }
 ],
 "metadata": {
  "kernelspec": {
   "display_name": "Python 3",
   "language": "python",
   "name": "python3"
  },
  "language_info": {
   "codemirror_mode": {
    "name": "ipython",
    "version": 3
   },
   "file_extension": ".py",
   "mimetype": "text/x-python",
   "name": "python",
   "nbconvert_exporter": "python",
   "pygments_lexer": "ipython3",
   "version": "3.13.2"
  }
 },
 "nbformat": 4,
 "nbformat_minor": 2
}
