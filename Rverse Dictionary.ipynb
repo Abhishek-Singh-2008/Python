{
 "cells": [
  {
   "cell_type": "code",
   "execution_count": 2,
   "metadata": {},
   "outputs": [
    {
     "data": {
      "text/plain": [
       "{1: 'a', 2: 'b', 3: 'c', 4: 'd'}"
      ]
     },
     "execution_count": 2,
     "metadata": {},
     "output_type": "execute_result"
    }
   ],
   "source": [
    "\n",
    "#Given a dictionary, return the inverted dictionary, i.e. keys of the output dictionary are the values of the input dictionary,\n",
    "#  and values of the output dictionary are the keys of the input dictionary\n",
    "def rev_dict(a):\n",
    "    b={}\n",
    "    for key,value in a.items():\n",
    "        b[value]=key\n",
    "    return b\n",
    "rev_dict({'a': 1, 'b': 2, 'c': 3, 'd': 4})\n"
   ]
  }
 ],
 "metadata": {
  "kernelspec": {
   "display_name": "Python 3",
   "language": "python",
   "name": "python3"
  },
  "language_info": {
   "codemirror_mode": {
    "name": "ipython",
    "version": 3
   },
   "file_extension": ".py",
   "mimetype": "text/x-python",
   "name": "python",
   "nbconvert_exporter": "python",
   "pygments_lexer": "ipython3",
   "version": "3.13.2"
  }
 },
 "nbformat": 4,
 "nbformat_minor": 2
}
