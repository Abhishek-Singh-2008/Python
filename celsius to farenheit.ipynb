{
 "cells": [
  {
   "cell_type": "code",
   "execution_count": 2,
   "metadata": {},
   "outputs": [
    {
     "name": "stdout",
     "output_type": "stream",
     "text": [
      "True\n",
      "False\n",
      "False\n",
      "False\n",
      "True\n"
     ]
    }
   ],
   "source": [
    "##Given a temperature in Celsius, convert it to Fahrenheit using the formula F = (C * 1.8) + 32.\n",
    "#  If the temperature is above 90°F, return True otherwise, return False.\n",
    "def tem_in_Celsius(C):\n",
    "    if (C * 1.8) + 32>90:\n",
    "        return(True)\n",
    "    else:\n",
    "        return(False)\n",
    "z=tem_in_Celsius(40)\n",
    "print(z)\n",
    "x=tem_in_Celsius(-40)\n",
    "print(x)\n",
    "b=tem_in_Celsius(1)\n",
    "print(b)\n",
    "d=tem_in_Celsius(32)\n",
    "print(d)\n",
    "e=tem_in_Celsius(375)\n",
    "print(e)\n"
   ]
  }
 ],
 "metadata": {
  "kernelspec": {
   "display_name": "Python 3",
   "language": "python",
   "name": "python3"
  },
  "language_info": {
   "codemirror_mode": {
    "name": "ipython",
    "version": 3
   },
   "file_extension": ".py",
   "mimetype": "text/x-python",
   "name": "python",
   "nbconvert_exporter": "python",
   "pygments_lexer": "ipython3",
   "version": "3.12.5"
  }
 },
 "nbformat": 4,
 "nbformat_minor": 2
}
