{
 "cells": [
  {
   "cell_type": "code",
   "execution_count": 1,
   "metadata": {},
   "outputs": [
    {
     "name": "stdout",
     "output_type": "stream",
     "text": [
      "('point lies on the same line', True)\n",
      "('not lies on the same line', False)\n",
      "('not lies on the same line', False)\n",
      "('point lies on the same line', True)\n",
      "('not lies on the same line', False)\n",
      "('not lies on the same line', False)\n"
     ]
    }
   ],
   "source": [
    "# Given three points,\n",
    "#  return True if they lie on the same straight line,\n",
    "#  else return False. Input should be in this format : (x1, y1, x2, y2, x3, y3).\n",
    "def three_points(x1,y1,x2,y2,x3,y3):\n",
    "    area = (0.5)*(x1*(y2-y3)+x2*(y3-y1)+x3*(y1-y2))  \n",
    "    if area==0 :\n",
    "        return(\"point lies on the same line\",True)\n",
    "    else :\n",
    "        return(\"not lies on the same line\",False)\n",
    "\n",
    "q=three_points(1,2,3,4,5,6)\n",
    "print(q)\n",
    "w=three_points(24,34,76,89,65,79)\n",
    "print(w)\n",
    "e=three_points(12,24,36,78,98,43)\n",
    "print(e)\n",
    "r=three_points(17,34,51,68,85,102)\n",
    "print(r)\n",
    "t=three_points(98,45,87,24,65,79)\n",
    "print(t)\n",
    "u=three_points(5,3,7,4,6,2)\n",
    "print(u)"
   ]
  }
 ],
 "metadata": {
  "kernelspec": {
   "display_name": "Python 3",
   "language": "python",
   "name": "python3"
  },
  "language_info": {
   "codemirror_mode": {
    "name": "ipython",
    "version": 3
   },
   "file_extension": ".py",
   "mimetype": "text/x-python",
   "name": "python",
   "nbconvert_exporter": "python",
   "pygments_lexer": "ipython3",
   "version": "3.12.5"
  }
 },
 "nbformat": 4,
 "nbformat_minor": 2
}
